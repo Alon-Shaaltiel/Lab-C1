{
 "cells": [
  {
   "cell_type": "code",
   "execution_count": 74,
   "id": "68ca37a8",
   "metadata": {
    "ExecuteTime": {
     "end_time": "2021-12-21T09:06:01.758614Z",
     "start_time": "2021-12-21T09:06:01.744833Z"
    },
    "init_cell": true
   },
   "outputs": [
    {
     "name": "stdout",
     "output_type": "stream",
     "text": [
      "5\n"
     ]
    }
   ],
   "source": [
    "import pandas as pd \n",
    "import numpy as np\n",
    "import matplotlib.pyplot as plt\n",
    "import os\n",
    "path = '/mnt/c/Users/alon4/Dropbox/My PC (LAPTOP-L5MMEHHN)/Desktop/Studies/Lab C1/Molecular Spectroscopy'\n",
    "files = ['NEXT Cigar.xlsx', 'Marlborro Cigar (1).xlsx', 'LM Cigar 00.xlsx', 'Galuois Cigar (1).xlsx', 'Canadian Cigar.xlsx']\n",
    "cigars = [file.split(' ')[0] for file in files]\n",
    "files = [os.path.join(path,'Measurements/Cigar/'+f) for f in files]\n",
    "def readXlsx(path):\n",
    "    return pd.read_excel(path).to_numpy().T\n",
    "plt.rcParams['figure.figsize'] = [30,10]\n",
    "plt.rcParams['text.usetex'] = True\n",
    "plt.rcParams.update({'font.size': 28, 'font.weight':'bold'})\n",
    "print(len(files))"
   ]
  },
  {
   "cell_type": "code",
   "execution_count": 61,
   "id": "040e0d6c",
   "metadata": {
    "ExecuteTime": {
     "end_time": "2021-12-21T08:58:10.653591Z",
     "start_time": "2021-12-21T08:58:10.644239Z"
    }
   },
   "outputs": [],
   "source": [
    "CO = ('CO',np.array([[2028,2238]]),'orchid')\n",
    "CO2 = ('CO2', np.array([[2248,2402],[604,705],[717,724]]),'mediumseagreen')\n",
    "HCN = ('HCN', np.array([[710,716]]),'purple')\n",
    "METHANOL = ('Methanol', np.array([[1000,1080]]),'saddlebrown')\n",
    "ETHYLENE = ('Ethylene', np.array([[901,997]]),'grey')\n",
    "ISOPRENE = ('Isoprene', np.array([[889,897]]),'red')\n",
    "METHANE = ('Methane', np.array([[1300,1307],[2820,3200]]),'green')\n",
    "ACETALDEHYDE = ('Acetaldehyde', np.array([[1720,1780]]),'black')\n",
    "H2O = ('Acetaldehyde', np.array([[1325,1994]]),'blue')\n",
    "chomers = [CO,CO2,HCN,METHANOL,ETHYLENE,ISOPRENE,METHANE,ACETALDEHYDE,H2O]"
   ]
  },
  {
   "cell_type": "code",
   "execution_count": null,
   "id": "bfd047ba",
   "metadata": {
    "ExecuteTime": {
     "start_time": "2021-12-21T09:12:51.115Z"
    },
    "scrolled": false
   },
   "outputs": [
    {
     "name": "stdout",
     "output_type": "stream",
     "text": [
      "/mnt/c/Users/alon4/Dropbox/My PC (LAPTOP-L5MMEHHN)/Desktop/Studies/Lab C1/Molecular Spectroscopy/Measurements/Cigar/NEXT Cigar.xlsx\n"
     ]
    }
   ],
   "source": [
    "for i in range(len(files)):\n",
    "    spectrum = readXlsx(files[i]) # [[Wavenumber], [Absorbance]]\n",
    "    sumMask = np.zeros_like(spectrum[0])\n",
    "    print(files[i])\n",
    "    for chem in chomers:\n",
    "        masks = [np.ma.masked_inside(spectrum[0],*reg).mask for reg in chem[1]]\n",
    "        for mask in masks:\n",
    "            sumMask += mask\n",
    "            plt.plot(spectrum[0][mask],spectrum[1][mask],color=chem[2], label=chem[0])\n",
    "    \n",
    "    sumMask = 1-sumMask\n",
    "    sumMask = sumMask.astype(bool)\n",
    "    masks = []\n",
    "    start = 0\n",
    "    j=0\n",
    "    while j<len(sumMask):\n",
    "        if sumMask[j]:\n",
    "            start = j\n",
    "            while j<len(sumMask) and sumMask[j]:\n",
    "                j+=1\n",
    "            masks.append([start,j-1])\n",
    "        j+=1\n",
    "    for mask in masks:\n",
    "        plt.plot(spectrum[0][mask[0]:mask[1]+1],spectrum[1][mask[0]:mask[1]+1], color = 'tab:orange', label='No associated chemical')\n",
    "    plt.ylim([0,3*max(spectrum[1])/5])\n",
    "    plt.legend()\n",
    "    plt.savefig(os.path.join(path, f\"Analysis/Colored Cigar Spectrums/{cigars[i]}_Spectrum.png\"))\n",
    "    plt.show()"
   ]
  }
 ],
 "metadata": {
  "celltoolbar": "Initialization Cell",
  "kernelspec": {
   "display_name": "Python 3 (ipykernel)",
   "language": "python",
   "name": "python3"
  },
  "language_info": {
   "codemirror_mode": {
    "name": "ipython",
    "version": 3
   },
   "file_extension": ".py",
   "mimetype": "text/x-python",
   "name": "python",
   "nbconvert_exporter": "python",
   "pygments_lexer": "ipython3",
   "version": "3.8.10"
  },
  "varInspector": {
   "cols": {
    "lenName": 16,
    "lenType": 16,
    "lenVar": 40
   },
   "kernels_config": {
    "python": {
     "delete_cmd_postfix": "",
     "delete_cmd_prefix": "del ",
     "library": "var_list.py",
     "varRefreshCmd": "print(var_dic_list())"
    },
    "r": {
     "delete_cmd_postfix": ") ",
     "delete_cmd_prefix": "rm(",
     "library": "var_list.r",
     "varRefreshCmd": "cat(var_dic_list()) "
    }
   },
   "types_to_exclude": [
    "module",
    "function",
    "builtin_function_or_method",
    "instance",
    "_Feature"
   ],
   "window_display": false
  }
 },
 "nbformat": 4,
 "nbformat_minor": 5
}
