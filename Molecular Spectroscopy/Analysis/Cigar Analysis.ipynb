{
 "cells": [
  {
   "cell_type": "code",
   "execution_count": null,
   "id": "5fa816f1",
   "metadata": {
    "ExecuteTime": {
     "end_time": "2021-12-21T10:22:30.234905Z",
     "start_time": "2021-12-21T10:22:29.521248Z"
    },
    "init_cell": true
   },
   "outputs": [],
   "source": [
    "import pandas as pd \n",
    "import numpy as np\n",
    "from matplotlib import pyplot as plt\n",
    "import matplotlib as mpl\n",
    "import os\n",
    "path = '/mnt/c/Users/alon4/Dropbox/My PC (LAPTOP-L5MMEHHN)/Desktop/Studies/Lab C1/Molecular Spectroscopy'\n",
    "files = ['NEXT Cigar.xlsx', 'Marlborro Cigar (1).xlsx', 'LM Cigar 00.xlsx', 'Galuois Cigar (1).xlsx', 'Canadian Cigar.xlsx']\n",
    "cigars = [file.split(' ')[0] for file in files]\n",
    "files = [os.path.join(path,'Measurements/Cigar/'+f) for f in files]\n",
    "def readXlsx(path):\n",
    "    return pd.read_excel(path).to_numpy().T\n",
    "plt.rcParams['figure.figsize'] = [30,10]\n",
    "plt.rcParams.update({'font.size': 28, 'font.weight':'bold'})\n",
    "plt.rcParams['text.usetex'] = True\n",
    "mpl.rcParams['text.latex.preamble'] = r'\\usepackage{amsmath}'"
   ]
  },
  {
   "cell_type": "code",
   "execution_count": null,
   "id": "9beb82ea",
   "metadata": {
    "ExecuteTime": {
     "end_time": "2021-12-21T10:15:03.360606Z",
     "start_time": "2021-12-21T10:15:03.353233Z"
    }
   },
   "outputs": [],
   "source": [
    "CO = ('CO',np.array([[2028,2238]]),'orchid')\n",
    "CO2 = (r'$\\text{CO}_{\\text{2}}$', np.array([[2248,2402],[604,705],[717,724]]),'mediumseagreen')\n",
    "HCN = ('HCN', np.array([[710,716]]),'purple')\n",
    "METHANOL = ('Methanol', np.array([[1000,1080]]),'saddlebrown')\n",
    "ETHYLENE = ('Ethylene', np.array([[901,997]]),'grey')\n",
    "ISOPRENE = ('Isoprene', np.array([[889,897]]),'red')\n",
    "METHANE = ('Methane', np.array([[1300,1307],[2820,3200]]),'green')\n",
    "ACETALDEHYDE = ('Acetaldehyde', np.array([[1720,1780]]),'black')\n",
    "H2O = ('Water', np.array([[1325,1994]]),'blue')\n",
    "chomers = [CO,CO2,HCN,METHANOL,ETHYLENE,ISOPRENE,METHANE,ACETALDEHYDE,H2O]"
   ]
  },
  {
   "cell_type": "code",
   "execution_count": null,
   "id": "ef864741",
   "metadata": {
    "ExecuteTime": {
     "end_time": "2021-12-21T10:16:03.821425Z",
     "start_time": "2021-12-21T10:15:04.023071Z"
    },
    "scrolled": false
   },
   "outputs": [],
   "source": [
    "for i in range(len(files)):\n",
    "    spectrum = readXlsx(files[i]) # [[Wavenumber], [Absorbance]]\n",
    "    sumMask = np.zeros_like(spectrum[0])\n",
    "    print(files[i])\n",
    "    \n",
    "    fig, ax = plt.subplots()\n",
    "    plots=[]\n",
    "    labels = []\n",
    "    for chem in chomers:\n",
    "        masks = [np.ma.masked_inside(spectrum[0],*reg).mask for reg in chem[1]]\n",
    "        for mask in masks:\n",
    "            sumMask += mask\n",
    "            if np.sum(mask) > 1 and chem[0] not in labels:\n",
    "                labels.append(chem[0])\n",
    "                curves, = ax.plot(spectrum[0][mask],spectrum[1][mask],color=chem[2])\n",
    "                plots.append(curves)\n",
    "            else:\n",
    "                ax.plot(spectrum[0][mask],spectrum[1][mask],color=chem[2])\n",
    "    \n",
    "    sumMask = 1-sumMask\n",
    "    sumMask = sumMask.astype(bool)\n",
    "    masks = []\n",
    "    start = 0\n",
    "    j=0\n",
    "    while j<len(sumMask):\n",
    "        if sumMask[j]:\n",
    "            start = j\n",
    "            while j<len(sumMask) and sumMask[j]:\n",
    "                j+=1\n",
    "            masks.append([start,j-1])\n",
    "        j+=1\n",
    "    for mask in masks:\n",
    "        if 'No associated chemical' not in labels:\n",
    "            curves, = ax.plot(spectrum[0][mask[0]:mask[1]+1],spectrum[1][mask[0]:mask[1]+1], color = 'tab:orange')\n",
    "            plots.append(curves)\n",
    "            labels.append('No associated chemical')\n",
    "        else:\n",
    "            ax.plot(spectrum[0][mask[0]:mask[1]+1],spectrum[1][mask[0]:mask[1]+1], color = 'tab:orange')\n",
    "    \n",
    "    ax.legend(plots, labels)\n",
    "    plt.savefig(os.path.join(path, f\"Analysis/Colored Cigar Spectrums/{cigars[i]}_Spectrum.png\"))\n",
    "    plt.show()"
   ]
  }
 ],
 "metadata": {
  "celltoolbar": "Initialization Cell",
  "kernelspec": {
   "display_name": "Python 3 (ipykernel)",
   "language": "python",
   "name": "python3"
  },
  "language_info": {
   "codemirror_mode": {
    "name": "ipython",
    "version": 3
   },
   "file_extension": ".py",
   "mimetype": "text/x-python",
   "name": "python",
   "nbconvert_exporter": "python",
   "pygments_lexer": "ipython3",
   "version": "3.8.10"
  },
  "varInspector": {
   "cols": {
    "lenName": 16,
    "lenType": 16,
    "lenVar": 40
   },
   "kernels_config": {
    "python": {
     "delete_cmd_postfix": "",
     "delete_cmd_prefix": "del ",
     "library": "var_list.py",
     "varRefreshCmd": "print(var_dic_list())"
    },
    "r": {
     "delete_cmd_postfix": ") ",
     "delete_cmd_prefix": "rm(",
     "library": "var_list.r",
     "varRefreshCmd": "cat(var_dic_list()) "
    }
   },
   "types_to_exclude": [
    "module",
    "function",
    "builtin_function_or_method",
    "instance",
    "_Feature"
   ],
   "window_display": false
  }
 },
 "nbformat": 4,
 "nbformat_minor": 5
}
